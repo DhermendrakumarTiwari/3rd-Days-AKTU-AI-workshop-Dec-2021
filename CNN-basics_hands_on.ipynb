{
  "nbformat": 4,
  "nbformat_minor": 0,
  "metadata": {
    "colab": {
      "name": "TEST_CNN.ipynb",
      "provenance": [],
      "collapsed_sections": []
    },
    "kernelspec": {
      "name": "python3",
      "display_name": "Python 3"
    },
    "language_info": {
      "name": "python"
    },
    "accelerator": "GPU"
  },
  "cells": [
    {
      "cell_type": "code",
      "execution_count": null,
      "metadata": {
        "id": "9lrsec3YjNTv"
      },
      "outputs": [],
      "source": [
        "!pip install -q kaggle"
      ]
    },
    {
      "cell_type": "code",
      "source": [
        "from google.colab import files\n",
        "files.upload()"
      ],
      "metadata": {
        "id": "ly28CADwjQsl"
      },
      "execution_count": null,
      "outputs": []
    },
    {
      "cell_type": "code",
      "source": [
        "! mkdir ~/.kaggle"
      ],
      "metadata": {
        "id": "YRFGaGxUjTcZ"
      },
      "execution_count": null,
      "outputs": []
    },
    {
      "cell_type": "code",
      "source": [
        "! cp kaggle.json ~/.kaggle/"
      ],
      "metadata": {
        "id": "21ysBv9sjYR5"
      },
      "execution_count": null,
      "outputs": []
    },
    {
      "cell_type": "code",
      "source": [
        "! chmod 600 ~/.kaggle/kaggle.json"
      ],
      "metadata": {
        "id": "lR_vE1hbjeBZ"
      },
      "execution_count": null,
      "outputs": []
    },
    {
      "cell_type": "code",
      "source": [
        "from google.colab import drive\n",
        "drive.mount('/content/drive')"
      ],
      "metadata": {
        "colab": {
          "base_uri": "https://localhost:8080/"
        },
        "id": "pAPLCh72jgPM",
        "outputId": "9c494437-aeed-492f-836b-a88460c7f9c5"
      },
      "execution_count": null,
      "outputs": [
        {
          "output_type": "stream",
          "name": "stdout",
          "text": [
            "Mounted at /content/drive\n"
          ]
        }
      ]
    },
    {
      "cell_type": "code",
      "source": [
        "! kaggle datasets list"
      ],
      "metadata": {
        "id": "nIYJp1SwjjmN"
      },
      "execution_count": null,
      "outputs": []
    },
    {
      "cell_type": "code",
      "source": [
        "!kaggle datasets download -d tongpython/cat-and-dog"
      ],
      "metadata": {
        "id": "m2yYvROLjxQT"
      },
      "execution_count": null,
      "outputs": []
    },
    {
      "cell_type": "code",
      "source": [
        "!unzip cat-and-dog.zip"
      ],
      "metadata": {
        "id": "4LEMIi-Fj8Ed"
      },
      "execution_count": null,
      "outputs": []
    },
    {
      "cell_type": "code",
      "source": [
        "import os\n",
        "import random\n",
        "import shutil\n",
        "import numpy as np\n",
        "from shutil import copyfile\n",
        "from PIL import Image\n",
        "%matplotlib inline\n",
        "from sklearn.metrics import roc_auc_score\n",
        "import matplotlib.image as mpimg\n",
        "import matplotlib.pyplot as plt\n",
        "from sklearn.model_selection import train_test_split\n",
        "from sklearn.metrics import confusion_matrix\n",
        "import math\n",
        "from keras.utils.np_utils import to_categorical # convert to one-hot-encoding\n",
        "from keras.models import Sequential\n",
        "from keras.layers import Dense, Dropout, Flatten, Conv2D, MaxPool2D\n",
        "from tensorflow.keras.optimizers import Adam\n",
        "import tensorflow as tf\n",
        "#from google.colab import files\n",
        "from keras.preprocessing import image\n",
        "from tensorflow.keras.preprocessing.image import ImageDataGenerator"
      ],
      "metadata": {
        "id": "1JRqIQ6_kES-"
      },
      "execution_count": null,
      "outputs": []
    },
    {
      "cell_type": "code",
      "source": [
        "train_dir = '/content/training_set/training_set/'\n",
        "test_dir = '/content/test_set/test_set/'"
      ],
      "metadata": {
        "id": "TvSpp9LTkSFw"
      },
      "execution_count": null,
      "outputs": []
    },
    {
      "cell_type": "code",
      "source": [
        "Image.open('/content/training_set/training_set/cats/cat.1.jpg').resize((300, 300))"
      ],
      "metadata": {
        "id": "JXuqGFR-kgK0"
      },
      "execution_count": null,
      "outputs": []
    },
    {
      "cell_type": "code",
      "source": [
        "batch_size = 128\n",
        "img_height, img_width = 224, 224\n",
        "input_shape = (img_height, img_width, 3)"
      ],
      "metadata": {
        "id": "xjb0ks_JlKyl"
      },
      "execution_count": null,
      "outputs": []
    },
    {
      "cell_type": "code",
      "source": [
        "random_seed = np.random.seed(1142)\n",
        "\n",
        "train_datagen = ImageDataGenerator(\n",
        "    rescale=1. / 255,\n",
        "    validation_split= 0.20,\n",
        "    zoom_range=0.2,\n",
        "    shear_range=0.2)\n",
        "\n",
        "train_generator = train_datagen.flow_from_directory(\n",
        "    train_dir,\n",
        "    target_size=(img_height, img_width),\n",
        "    batch_size=batch_size,\n",
        "    seed = random_seed,\n",
        "    shuffle = False,\n",
        "    subset = 'training',\n",
        "    class_mode='binary')\n",
        "\n",
        "validation_generator = train_datagen.flow_from_directory(\n",
        "    train_dir,\n",
        "    target_size=(img_height, img_width),\n",
        "    batch_size=batch_size,\n",
        "    seed = random_seed,\n",
        "    shuffle = False,\n",
        "    subset = 'validation',\n",
        "    class_mode='binary')\n",
        "\n",
        "test_datagen = ImageDataGenerator(rescale=1. / 255)\n",
        "test_generator = test_datagen.flow_from_directory(\n",
        "    test_dir,\n",
        "    target_size=(img_height, img_width),\n",
        "    batch_size=batch_size,\n",
        "    seed = random_seed,\n",
        "    shuffle = False,\n",
        "    class_mode='binary')"
      ],
      "metadata": {
        "id": "Rx6oiTJclW-j"
      },
      "execution_count": null,
      "outputs": []
    },
    {
      "cell_type": "code",
      "source": [
        "nb_train_samples = len(train_generator.filenames)\n",
        "nb_validation_samples = len(validation_generator.filenames)\n",
        "nb_test_samples = len(test_generator.filenames)\n",
        "\n",
        "\n",
        "num_classes = len(train_generator.class_indices)\n",
        "\n",
        "print(\"nb_train_samples:\", nb_train_samples)\n",
        "print(\"nb_validation_samples:\", nb_validation_samples)\n",
        "print(\"nb_test_samples:\", nb_test_samples)\n",
        "print(\"\\n num_classes:\", num_classes)"
      ],
      "metadata": {
        "id": "Eow7ZSLsluaO"
      },
      "execution_count": null,
      "outputs": []
    },
    {
      "cell_type": "code",
      "source": [
        "plt.figure(figsize=(8,6))\n",
        "plt.bar([\"train_generator\", \"validation_generator\", \"test_generator\"], [nb_train_samples, nb_validation_samples, nb_test_samples], color=[\"maroon\", \"cyan\", \"seagreen\"], width=0.4)\n",
        "plt.xlabel(\"Data\")\n",
        "plt.ylabel(\"Numbers\")\n",
        "plt.show()"
      ],
      "metadata": {
        "id": "_0V2Ahf1-luf"
      },
      "execution_count": null,
      "outputs": []
    },
    {
      "cell_type": "code",
      "source": [
        "model = Sequential()\n",
        "model.add(Conv2D(filters=32, kernel_size=(3,3), padding='Same', activation='relu', input_shape=(img_height, img_width, 3)))\n",
        "model.add(MaxPool2D(pool_size=(2,2), strides=2))\n",
        "model.add(Dropout(0.1))\n",
        "\n",
        "model.add(Conv2D(filters=64, kernel_size=(3,3), padding='Same', activation='relu'))\n",
        "model.add(MaxPool2D(pool_size=(2,2), strides=2))\n",
        "model.add(Dropout(0.1))\n",
        "\n",
        "model.add(Flatten())\n",
        "model.add(Dense(200, activation='relu'))\n",
        "model.add(Dropout(0.25))\n",
        "model.add(Dense(1, activation='sigmoid'))\n",
        "\n",
        "model.compile(optimizer='adam',\n",
        "              loss='binary_crossentropy',\n",
        "              metrics=['accuracy'])\n",
        "\n",
        "model.summary()\n"
      ],
      "metadata": {
        "id": "6BMSy7tgjZC7"
      },
      "execution_count": null,
      "outputs": []
    },
    {
      "cell_type": "code",
      "source": [
        "from tensorflow.keras.utils import plot_model\n",
        "\n",
        "plot_model(model, show_shapes = True,expand_nested = True,dpi = 80)"
      ],
      "metadata": {
        "id": "YwsKWOzRmqcO"
      },
      "execution_count": null,
      "outputs": []
    },
    {
      "cell_type": "code",
      "source": [
        "r= model.fit_generator(train_generator,\n",
        "             epochs=5,\n",
        "             verbose=1,\n",
        "             validation_data=validation_generator)                                                          "
      ],
      "metadata": {
        "id": "KM-lfsMImqzF"
      },
      "execution_count": null,
      "outputs": []
    },
    {
      "cell_type": "code",
      "source": [
        "import matplotlib.pyplot as plt\n",
        "\n",
        "plt.style.use(\"seaborn-ticks\")\n",
        "\n",
        "plt.plot(r.history['accuracy'])\n",
        "plt.plot(r.history['val_accuracy'])\n",
        "plt.title('model accuracy')\n",
        "plt.ylabel('Accuracy')\n",
        "plt.xlabel('Epoch')\n",
        "plt.legend(['Training Acc', 'Test Acc'], loc='upper left')\n",
        "plt.show()\n",
        "\n",
        "# summarize history for loss\n",
        "plt.plot(r.history['loss'])\n",
        "plt.plot(r.history['val_loss'])\n",
        "plt.title('model loss')\n",
        "plt.ylabel('Loss')\n",
        "plt.xlabel('Epoch')\n",
        "plt.legend(['Training Loss', 'Test Loss'], loc='upper left')\n",
        "plt.show()\n",
        "\n",
        "plt.figure()\n"
      ],
      "metadata": {
        "id": "3Nce-dRjm4eJ"
      },
      "execution_count": null,
      "outputs": []
    },
    {
      "cell_type": "code",
      "source": [
        "from sklearn.metrics import confusion_matrix, classification_report\n",
        "from sklearn.metrics import roc_auc_score\n",
        "\n",
        "print(\"==============TEST RESULTS============\")\n",
        "test_generator = test_datagen.flow_from_directory(\n",
        "        test_dir,\n",
        "        target_size=(224, 224),\n",
        "        batch_size=batch_size,\n",
        "        class_mode=None,\n",
        "        shuffle=False) \n",
        "test_labels = test_generator.classes\n",
        "test_labels = to_categorical(test_labels, num_classes=num_classes)\n",
        "y_true = [i.argmax() for i in test_labels]\n",
        "\n",
        "predictions = model.predict(test_generator, verbose=1)\n",
        "yPredictions = np.argmax(predictions, axis=1)\n",
        "true_classes = test_generator.classes\n",
        "confusion_mtx = confusion_matrix(true_classes, yPredictions) \n",
        "y_pred_probabilities=yPredictions\n",
        "classnames=[]\n",
        "for classname in test_generator.class_indices:\n",
        "    classnames.append(classname)\n",
        "\n",
        "target_names = classnames\n",
        "print(classification_report(true_classes, yPredictions, target_names=target_names))\n",
        "\n",
        "print('roc_auc_score = ' + str(roc_auc_score( true_classes, yPredictions)))"
      ],
      "metadata": {
        "id": "_whT1hGyq6h6"
      },
      "execution_count": null,
      "outputs": []
    },
    {
      "cell_type": "code",
      "source": [
        "from matplotlib import cm"
      ],
      "metadata": {
        "id": "TKcmm9q9yttQ"
      },
      "execution_count": null,
      "outputs": []
    },
    {
      "cell_type": "code",
      "source": [
        "from sklearn.preprocessing import LabelEncoder\n",
        "from sklearn.metrics import confusion_matrix, classification_report\n",
        "\n",
        "test_labels = test_generator.classes\n",
        "test_labels = to_categorical(test_labels, num_classes=num_classes)\n",
        "y_true = [i.argmax() for i in test_labels]\n",
        "\n",
        "\n",
        "y_pred=yPredictions\n",
        "y_pred_probabilities=y_pred\n",
        "\n",
        "# y_pred = np.argmax(y_pred,axis = 1) \n",
        "y_actual = y_true\n",
        "\n",
        "classnames=[]\n",
        "for classname in test_generator.class_indices:\n",
        "    classnames.append(classname)\n",
        "\n",
        "confusion_mtx = confusion_matrix(y_actual, y_pred) \n",
        "print(confusion_mtx)\n",
        "target_names = classnames\n",
        "print(classification_report(y_actual, y_pred, target_names=target_names))"
      ],
      "metadata": {
        "id": "EYLysa2B3pOy"
      },
      "execution_count": null,
      "outputs": []
    },
    {
      "cell_type": "code",
      "source": [
        "print('roc_auc_score = ' + str(roc_auc_score(y_pred, y_true)))"
      ],
      "metadata": {
        "id": "6tZ0aKIZ1uZh"
      },
      "execution_count": null,
      "outputs": []
    },
    {
      "cell_type": "code",
      "source": [
        "from sklearn.metrics import classification_report\n",
        "import seaborn as sns\n",
        "import sklearn\n",
        "import pandas as pd\n",
        "print(classification_report( true_classes, yPredictions))\n",
        "cm_matrix = sklearn.metrics.confusion_matrix(true_classes, yPredictions)\n",
        "cm_matrix\n",
        "\n",
        "class_names=[0,1] # name  of classes\n",
        "fig, ax = plt.subplots()\n",
        "tick_marks = np.arange(len(class_names))\n",
        "plt.xticks(tick_marks, class_names)\n",
        "plt.yticks(tick_marks, class_names)\n",
        "# create heatmap\n",
        "sns.heatmap(pd.DataFrame(cm_matrix), annot=True,linewidths=.5, cmap=\"YlGnBu\" ,fmt='g')\n",
        "ax.xaxis.set_label_position(\"top\")\n",
        "plt.tight_layout()\n",
        "plt.title('Confusion matrix', y=1.1)\n",
        "plt.ylabel('Actual label')\n",
        "plt.xlabel('Predicted label')"
      ],
      "metadata": {
        "id": "vEw4yTSosWfW"
      },
      "execution_count": null,
      "outputs": []
    },
    {
      "cell_type": "code",
      "source": [
        "# y_pred_proba = clf.predict_proba(X_test)[::,1]\n",
        "fpr, tpr, _ = sklearn.metrics.roc_curve(true_classes, yPredictions)\n",
        "auc = sklearn.metrics.roc_auc_score(true_classes, yPredictions)\n",
        "plt.plot(fpr,tpr,label=\"data 1, auc=\"+str(auc))\n",
        "plt.legend(loc=4)\n",
        "plt.plot(fpr, tpr, color='orange', label='ROC curve from the proposed method')\n",
        "plt.plot([0, 1], [0, 1], color='darkblue', linestyle='--')\n",
        "#     plt.plot([0, 1], [0, 1], color='darkblue', linestyle='--')\n",
        "plt.xlabel('False Positive Rate')\n",
        "plt.ylabel('True Positive Rate')\n",
        "plt.title('Receiver Operating Characteristic (ROC) Curve')\n",
        "plt.legend()\n",
        "plt.show()\n",
        "\n",
        "\n",
        "plt.show()"
      ],
      "metadata": {
        "id": "qujx5fb0tkda"
      },
      "execution_count": null,
      "outputs": []
    },
    {
      "cell_type": "code",
      "source": [
        "total=sum(sum(cm))\n",
        "\n",
        "sensitivity = cm[0,0]/(cm[0,0]+cm[1,0])\n",
        "print('Sensitivity : ', sensitivity*100 )\n",
        "\n",
        "Specificity = cm[1,1]/(cm[1,1]+cm[0,1])\n",
        "print('Specificity : ', Specificity*100 )"
      ],
      "metadata": {
        "id": "HDvx47pY1qJy"
      },
      "execution_count": null,
      "outputs": []
    },
    {
      "cell_type": "code",
      "source": [
        ""
      ],
      "metadata": {
        "id": "q7epV5Bd1_ML"
      },
      "execution_count": null,
      "outputs": []
    }
  ]
}